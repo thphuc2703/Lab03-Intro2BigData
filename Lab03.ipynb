{
 "cells": [
  {
   "cell_type": "code",
   "execution_count": 1,
   "metadata": {},
   "outputs": [],
   "source": [
    "import findspark\n",
    "findspark.init()"
   ]
  },
  {
   "cell_type": "code",
   "execution_count": 2,
   "metadata": {},
   "outputs": [
    {
     "name": "stderr",
     "output_type": "stream",
     "text": [
      "your 131072x1 screen size is bogus. expect trouble\n",
      "23/04/25 13:12:27 WARN Utils: Your hostname, WeebMachine resolves to a loopback address: 127.0.1.1; using 172.30.248.116 instead (on interface eth0)\n",
      "23/04/25 13:12:27 WARN Utils: Set SPARK_LOCAL_IP if you need to bind to another address\n",
      "Setting default log level to \"WARN\".\n",
      "To adjust logging level use sc.setLogLevel(newLevel). For SparkR, use setLogLevel(newLevel).\n",
      "23/04/25 13:12:29 WARN NativeCodeLoader: Unable to load native-hadoop library for your platform... using builtin-java classes where applicable\n"
     ]
    }
   ],
   "source": [
    "import pyspark\n",
    "\n",
    "from pyspark.ml import Pipeline\n",
    "from pyspark.ml.classification import RandomForestClassifier\n",
    "from pyspark.ml.feature import IndexToString, StringIndexer, VectorIndexer, VectorAssembler\n",
    "from pyspark.ml.evaluation import MulticlassClassificationEvaluator\n",
    "\n",
    "from sklearn.metrics import confusion_matrix\n",
    "from sklearn.metrics import precision_score\n",
    "from sklearn.metrics import recall_score\n",
    "\n",
    "from pyspark.sql import SparkSession\n",
    "spark = SparkSession.builder.appName(\"\").getOrCreate()\n",
    "#from pyspark.python.pyspark.shell import spark"
   ]
  },
  {
   "cell_type": "code",
   "execution_count": 3,
   "metadata": {},
   "outputs": [
    {
     "name": "stderr",
     "output_type": "stream",
     "text": [
      "23/04/25 13:12:37 WARN package: Truncated the string representation of a plan since it was too large. This behavior can be adjusted by setting 'spark.sql.debug.maxToStringFields'.\n"
     ]
    },
    {
     "name": "stdout",
     "output_type": "stream",
     "text": [
      "+---+------------------+----------------+---------------+-------+----------------------+-------------------------------+------------+---+----------------------+----------+--------------------+---------+---+--------------+-------------+---+------+------+---------------+-------------------------+---+-----+----+--------+----+\n",
      "| ID|Reason for absence|Month of absence|Day of the week|Seasons|Transportation expense|Distance from Residence to Work|Service time|Age|Work load Average/day |Hit target|Disciplinary_failure|Education|Son|Social drinker|Social smoker|Pet|Weight|Height|Body mass index|Absenteeism_time_in_hours|MOA|label| ROA|distance| BMI|\n",
      "+---+------------------+----------------+---------------+-------+----------------------+-------------------------------+------------+---+----------------------+----------+--------------------+---------+---+--------------+-------------+---+------+------+---------------+-------------------------+---+-----+----+--------+----+\n",
      "| 11|                26|               7|              3|      1|                   289|                             36|          13| 33|               239.554|        97|                   0|        1|  2|             1|            0|  1|    90|   172|             30|                        4|7.0|289.0|26.0|    36.0|30.0|\n",
      "| 36|                 0|               7|              3|      1|                   118|                             13|          18| 50|               239.554|        97|                   1|        1|  1|             1|            0|  0|    98|   178|             31|                        0|7.0|118.0| 0.0|    13.0|31.0|\n",
      "|  3|                23|               7|              4|      1|                   179|                             51|          18| 38|               239.554|        97|                   0|        1|  0|             1|            0|  0|    89|   170|             31|                        2|7.0|179.0|23.0|    51.0|31.0|\n",
      "|  7|                 7|               7|              5|      1|                   279|                              5|          14| 39|               239.554|        97|                   0|        1|  2|             1|            1|  0|    68|   168|             24|                        4|7.0|279.0| 7.0|     5.0|24.0|\n",
      "| 11|                23|               7|              5|      1|                   289|                             36|          13| 33|               239.554|        97|                   0|        1|  2|             1|            0|  1|    90|   172|             30|                        2|7.0|289.0|23.0|    36.0|30.0|\n",
      "+---+------------------+----------------+---------------+-------+----------------------+-------------------------------+------------+---+----------------------+----------+--------------------+---------+---+--------------+-------------+---+------+------+---------------+-------------------------+---+-----+----+--------+----+\n",
      "only showing top 5 rows\n",
      "\n"
     ]
    }
   ],
   "source": [
    "data = spark.read.load(\"Absenteeism_at_work.csv\", format=\"csv\", header=True, delimiter=\",\")\n",
    "\n",
    "data = data.withColumn(\"MOA\", data[\"Month of absence\"] - 0).withColumn(\"label\", data['Transportation expense'] - 0). \\\n",
    "    withColumn(\"ROA\", data[\"Reason for absence\"] - 0). \\\n",
    "    withColumn(\"distance\", data[\"Distance from Residence to Work\"] - 0). \\\n",
    "    withColumn(\"BMI\", data[\"Body mass index\"] - 0)\n",
    "data.show(5)"
   ]
  },
  {
   "cell_type": "code",
   "execution_count": 4,
   "metadata": {},
   "outputs": [
    {
     "name": "stderr",
     "output_type": "stream",
     "text": [
      "                                                                                \r"
     ]
    }
   ],
   "source": [
    "vassembler = VectorAssembler(inputCols=[\"MOA\", \"ROA\",\"distance\", \"BMI\"], outputCol='features')\n",
    "data = vassembler.transform(data)\n",
    "\n",
    "# Index labels, adding metadata to the label column.\n",
    "# Fit on whole dataset to include all labels in index.\n",
    "\n",
    "labelIndexer = StringIndexer(inputCol=\"label\", outputCol=\"indexedLabel\").fit(data)\n",
    "\n",
    "# Automatically identify categorical features, and index them.\n",
    "# Set maxCategories so features with > 4 distinct values are treated as continuous.\n",
    "featureIndexer =\\\n",
    "    VectorIndexer(inputCol=\"features\", outputCol=\"indexedFeatures\", maxCategories=4).fit(data)\n",
    "\n",
    "# Split the data into training and test sets (30% held out for testing)\n",
    "(trainingData, testData) = data.randomSplit([0.7, 0.3])"
   ]
  },
  {
   "cell_type": "code",
   "execution_count": 5,
   "metadata": {},
   "outputs": [
    {
     "name": "stdout",
     "output_type": "stream",
     "text": [
      "+---+------------------+----------------+---------------+-------+----------------------+-------------------------------+------------+---+----------------------+----------+--------------------+---------+---+--------------+-------------+---+------+------+---------------+-------------------------+----+-----+----+--------+----+--------------------+------------+--------------------+--------------------+--------------------+----------+--------------+\n",
      "| ID|Reason for absence|Month of absence|Day of the week|Seasons|Transportation expense|Distance from Residence to Work|Service time|Age|Work load Average/day |Hit target|Disciplinary_failure|Education|Son|Social drinker|Social smoker|Pet|Weight|Height|Body mass index|Absenteeism_time_in_hours| MOA|label| ROA|distance| BMI|            features|indexedLabel|     indexedFeatures|       rawPrediction|         probability|prediction|predictedLabel|\n",
      "+---+------------------+----------------+---------------+-------+----------------------+-------------------------------+------------+---+----------------------+----------+--------------------+---------+---+--------------+-------------+---+------+------+---------------+-------------------------+----+-----+----+--------+----+--------------------+------------+--------------------+--------------------+--------------------+----------+--------------+\n",
      "|  1|                13|               6|              3|      1|                   235|                             11|          14| 37|               253.957|        95|                   0|        3|  1|             0|            0|  1|    88|   172|             29|                        8| 6.0|235.0|13.0|    11.0|29.0|[6.0,13.0,11.0,29.0]|         3.0|[6.0,13.0,11.0,29.0]|[0.0,2.6507330388...|[0.0,0.2650733038...|       3.0|         235.0|\n",
      "|  1|                23|              12|              2|      4|                   235|                             11|          14| 37|               236.629|        93|                   0|        3|  1|             0|            0|  1|    88|   172|             29|                        3|12.0|235.0|23.0|    11.0|29.0|[12.0,23.0,11.0,2...|         3.0|[12.0,23.0,11.0,2...|[0.0,3.2092411973...|[0.0,0.3209241197...|       3.0|         235.0|\n",
      "|  1|                23|               8|              5|      1|                   235|                             11|          14| 37|               205.917|        92|                   0|        3|  1|             0|            0|  1|    88|   172|             29|                        4| 8.0|235.0|23.0|    11.0|29.0|[8.0,23.0,11.0,29.0]|         3.0|[8.0,23.0,11.0,29.0]|[0.0,3.2092411973...|[0.0,0.3209241197...|       3.0|         235.0|\n",
      "|  1|                26|              10|              2|      4|                   235|                             11|          14| 37|               265.017|        88|                   0|        3|  1|             0|            0|  1|    88|   172|             29|                        4|10.0|235.0|26.0|    11.0|29.0|[10.0,26.0,11.0,2...|         3.0|[10.0,26.0,11.0,2...|[0.0,2.8386118267...|[0.0,0.2838611826...|       3.0|         235.0|\n",
      "| 10|                10|              10|              2|      4|                   361|                             52|           3| 28|               265.017|        88|                   0|        1|  1|             1|            0|  4|    80|   172|             27|                        8|10.0|361.0|10.0|    52.0|27.0|[10.0,10.0,52.0,2...|        10.0|[10.0,10.0,52.0,2...|[1.08999999999999...|[0.10899999999999...|      10.0|         361.0|\n",
      "+---+------------------+----------------+---------------+-------+----------------------+-------------------------------+------------+---+----------------------+----------+--------------------+---------+---+--------------+-------------+---+------+------+---------------+-------------------------+----+-----+----+--------+----+--------------------+------------+--------------------+--------------------+--------------------+----------+--------------+\n",
      "only showing top 5 rows\n",
      "\n"
     ]
    }
   ],
   "source": [
    "# Train a RandomForest model.\n",
    "rf = RandomForestClassifier(labelCol=\"indexedLabel\", featuresCol=\"indexedFeatures\", numTrees=10)\n",
    "\n",
    "# Convert indexed labels back to original labels.\n",
    "labelConverter = IndexToString(inputCol=\"prediction\", outputCol=\"predictedLabel\",\n",
    "                               labels=labelIndexer.labels)\n",
    "\n",
    "# Chain indexers and forest in a Pipeline\n",
    "pipeline = Pipeline(stages=[labelIndexer, featureIndexer, rf, labelConverter])\n",
    "\n",
    "# Train model.  This also runs the indexers.\n",
    "model = pipeline.fit(trainingData)\n",
    "\n",
    "# Make predictions.\n",
    "predictions = model.transform(testData)\n",
    "#get y_true and y_pred\n",
    "y_true = predictions.select(\"indexedLabel\").rdd.flatMap(lambda x: x).collect()\n",
    "y_pred = predictions.select(\"prediction\").rdd.flatMap(lambda x: x).collect()\n",
    "\n",
    "# Select example rows to display.\n",
    "predictions.show(5)\n",
    "\n",
    "# Select (prediction, true label) and compute test error\n",
    "evaluator = MulticlassClassificationEvaluator(labelCol=\"indexedLabel\", predictionCol=\"prediction\", metricName=\"accuracy\")"
   ]
  },
  {
   "cell_type": "code",
   "execution_count": 6,
   "metadata": {},
   "outputs": [
    {
     "name": "stdout",
     "output_type": "stream",
     "text": [
      "RandomForestClassificationModel: uid=RandomForestClassifier_5905c09fd3c9, numTrees=10, numClasses=24, numFeatures=4\n",
      "Random Forest - Test Accuracy = 0.921053\n",
      "Random Forest - Test Error = 0.0789474\n",
      "The Confusion Matrix for Random Forest Model is :\n",
      "[[61  0  0  0  0  0  0  0  0  0  0  0  0  0  0  0  0  0  0  0  0  0  0]\n",
      " [ 0 27  0  1  0  0  0  0  0  0  0  0  0  0  0  0  0  0  0  0  0  0  0]\n",
      " [ 0  1 23  0  0  0  0  0  0  0  0  0  0  0  0  0  0  0  0  0  0  0  0]\n",
      " [ 0  0  1  8  0  0  0  0  0  0  0  2  0  0  0  0  0  0  0  0  0  0  0]\n",
      " [ 0  0  0  0 18  0  0  0  0  0  0  0  0  0  0  0  0  0  0  0  0  0  0]\n",
      " [ 0  0  0  0  0  9  0  0  0  0  0  0  0  0  0  0  0  0  0  0  0  0  0]\n",
      " [ 0  0  0  0  0  0 17  0  0  0  0  0  0  0  0  0  0  0  0  0  0  0  0]\n",
      " [ 0  0  0  0  0  0  0 12  0  0  0  0  0  0  0  0  0  0  0  0  0  0  0]\n",
      " [ 0  0  0  0  0  0  0  0  9  0  0  0  0  0  0  0  0  0  0  0  0  0  0]\n",
      " [ 0  0  0  0  0  0  0  0  0  7  0  0  0  0  0  0  0  0  0  0  0  0  0]\n",
      " [ 0  0  0  0  0  0  0  0  0  0  8  0  0  0  0  0  0  0  0  0  0  0  0]\n",
      " [ 0  0  0  0  0  0  0  0  0  0  0  2  0  0  0  0  0  0  0  0  0  0  0]\n",
      " [ 0  0  0  1  0  0  0  0  0  0  0  0  2  0  0  0  0  0  0  0  0  0  0]\n",
      " [ 0  0  0  0  0  0  2  0  0  0  0  0  0  0  0  0  0  0  0  0  0  0  0]\n",
      " [ 0  0  0  0  0  0  0  0  0  0  0  0  0  0  1  0  0  0  0  0  0  0  0]\n",
      " [ 2  0  0  0  0  0  0  0  0  0  0  0  0  0  0  0  0  0  0  0  0  0  0]\n",
      " [ 1  0  0  0  0  0  0  0  0  0  0  0  0  0  0  0  0  0  0  0  0  0  0]\n",
      " [ 2  0  0  0  0  0  0  0  0  0  0  0  0  0  0  0  0  0  0  0  0  0  0]\n",
      " [ 0  0  0  0  0  0  0  0  0  0  0  0  0  0  0  0  0  0  3  0  0  0  0]\n",
      " [ 0  0  0  0  0  0  0  0  0  0  0  0  0  0  0  0  0  0  0  3  0  0  0]\n",
      " [ 0  0  0  0  0  0  2  0  0  0  0  0  0  0  0  0  0  0  0  0  0  0  0]\n",
      " [ 0  0  0  0  0  0  0  0  2  0  0  0  0  0  0  0  0  0  0  0  0  0  0]\n",
      " [ 0  0  1  0  0  0  0  0  0  0  0  0  0  0  0  0  0  0  0  0  0  0  0]]\n",
      "The precision score for Random Forest Model is: 0.9210526315789473\n",
      "The recall score for Random Forest Model is: 0.9210526315789473\n"
     ]
    }
   ],
   "source": [
    "accuracy = evaluator.evaluate(predictions)\n",
    "\n",
    "confusionmatrix = confusion_matrix(y_true, y_pred)\n",
    "\n",
    "precision = precision_score(y_true, y_pred, average='micro')\n",
    "\n",
    "recall = recall_score(y_true, y_pred, average='micro')\n",
    "\n",
    "rfModel = model.stages[2]\n",
    "print(rfModel)  # summary only\n",
    "print(\"Random Forest - Test Accuracy = %g\" % (accuracy))\n",
    "print(\"Random Forest - Test Error = %g\" % (1.0 - accuracy))\n",
    "\n",
    "print(\"The Confusion Matrix for Random Forest Model is :\\n\" + str(confusionmatrix))\n",
    "\n",
    "print(\"The precision score for Random Forest Model is: \" + str(precision))\n",
    "\n",
    "print(\"The recall score for Random Forest Model is: \" + str(recall))"
   ]
  },
  {
   "cell_type": "code",
   "execution_count": 7,
   "metadata": {},
   "outputs": [],
   "source": [
    "from pyspark.ml.regression import DecisionTreeRegressor\n",
    "from pyspark.ml.evaluation import RegressionEvaluator"
   ]
  },
  {
   "cell_type": "code",
   "execution_count": 8,
   "metadata": {},
   "outputs": [
    {
     "name": "stdout",
     "output_type": "stream",
     "text": [
      "+-------------+----------------+-----------+--------------+---------+-------------------+--------------------+-------+----+---------+-------+-------+----+-----+----+---+---+\n",
      "|fixed acidity|volatile acidity|citric acid|residual sugar|chlorides|free sulfur dioxide|total sulfur dioxide|density|  pH|sulphates|alcohol|quality|  FA|label|  CA| RS|  A|\n",
      "+-------------+----------------+-----------+--------------+---------+-------------------+--------------------+-------+----+---------+-------+-------+----+-----+----+---+---+\n",
      "|          7.4|             0.7|          0|           1.9|    0.076|                 11|                  34| 0.9978|3.51|     0.56|    9.4|      5| 7.4|  5.0| 0.0|1.9|9.4|\n",
      "|          7.8|            0.88|          0|           2.6|    0.098|                 25|                  67| 0.9968| 3.2|     0.68|    9.8|      5| 7.8|  5.0| 0.0|2.6|9.8|\n",
      "|          7.8|            0.76|       0.04|           2.3|    0.092|                 15|                  54|  0.997|3.26|     0.65|    9.8|      5| 7.8|  5.0|0.04|2.3|9.8|\n",
      "|         11.2|            0.28|       0.56|           1.9|    0.075|                 17|                  60|  0.998|3.16|     0.58|    9.8|      6|11.2|  6.0|0.56|1.9|9.8|\n",
      "|          7.4|             0.7|          0|           1.9|    0.076|                 11|                  34| 0.9978|3.51|     0.56|    9.4|      5| 7.4|  5.0| 0.0|1.9|9.4|\n",
      "+-------------+----------------+-----------+--------------+---------+-------------------+--------------------+-------+----+---------+-------+-------+----+-----+----+---+---+\n",
      "only showing top 5 rows\n",
      "\n"
     ]
    }
   ],
   "source": [
    "# Load the data as a DataFrame.\n",
    "#data = spark.read.load(\"winequality-red.csv\", format=\"csv\", header=True, delimiter=\";\")\n",
    "\n",
    "data = spark.read.format(\"csv\").load(\"winequality-red.csv\", header=True, delimiter=\";\")\n",
    "\n",
    "data = data.withColumn(\"FA\", data[\"fixed acidity\"] - 0).withColumn(\"label\", data['quality'] - 0). \\\n",
    "    withColumn(\"CA\", data[\"citric acid\"] - 0). \\\n",
    "    withColumn(\"RS\", data[\"residual sugar\"] - 0). \\\n",
    "    withColumn(\"A\", data[\"alcohol\"] - 0)\n",
    "data.show(5)"
   ]
  },
  {
   "cell_type": "code",
   "execution_count": 9,
   "metadata": {},
   "outputs": [
    {
     "name": "stdout",
     "output_type": "stream",
     "text": [
      "+-------------+----------------+-----------+--------------+---------+-------------------+--------------------+-------+----+---------+-------+-------+----+-----+----+---+---+-------------------+\n",
      "|fixed acidity|volatile acidity|citric acid|residual sugar|chlorides|free sulfur dioxide|total sulfur dioxide|density|  pH|sulphates|alcohol|quality|  FA|label|  CA| RS|  A|           features|\n",
      "+-------------+----------------+-----------+--------------+---------+-------------------+--------------------+-------+----+---------+-------+-------+----+-----+----+---+---+-------------------+\n",
      "|          7.4|             0.7|          0|           1.9|    0.076|                 11|                  34| 0.9978|3.51|     0.56|    9.4|      5| 7.4|  5.0| 0.0|1.9|9.4|  [7.4,0.0,1.9,9.4]|\n",
      "|          7.8|            0.88|          0|           2.6|    0.098|                 25|                  67| 0.9968| 3.2|     0.68|    9.8|      5| 7.8|  5.0| 0.0|2.6|9.8|  [7.8,0.0,2.6,9.8]|\n",
      "|          7.8|            0.76|       0.04|           2.3|    0.092|                 15|                  54|  0.997|3.26|     0.65|    9.8|      5| 7.8|  5.0|0.04|2.3|9.8| [7.8,0.04,2.3,9.8]|\n",
      "|         11.2|            0.28|       0.56|           1.9|    0.075|                 17|                  60|  0.998|3.16|     0.58|    9.8|      6|11.2|  6.0|0.56|1.9|9.8|[11.2,0.56,1.9,9.8]|\n",
      "|          7.4|             0.7|          0|           1.9|    0.076|                 11|                  34| 0.9978|3.51|     0.56|    9.4|      5| 7.4|  5.0| 0.0|1.9|9.4|  [7.4,0.0,1.9,9.4]|\n",
      "+-------------+----------------+-----------+--------------+---------+-------------------+--------------------+-------+----+---------+-------+-------+----+-----+----+---+---+-------------------+\n",
      "only showing top 5 rows\n",
      "\n"
     ]
    }
   ],
   "source": [
    "vassembler = VectorAssembler(inputCols=[\"FA\", \"CA\", \"RS\",\"A\"], outputCol='features')\n",
    "\n",
    "data = vassembler.transform(data)\n",
    "data.show(5)"
   ]
  },
  {
   "cell_type": "code",
   "execution_count": 10,
   "metadata": {},
   "outputs": [],
   "source": [
    "# Automatically identify categorical features, and index them.\n",
    "# We specify maxCategories so features with > 4 distinct values are treated as continuous.\n",
    "featureIndexer =\\\n",
    "    VectorIndexer(inputCol=\"features\", outputCol=\"indexedFeatures\", maxCategories=4).fit(data)\n",
    "\n",
    "# Split the data into training and test sets (30% held out for testing)\n",
    "(trainingData, testData) = data.randomSplit([0.7, 0.3])\n"
   ]
  },
  {
   "cell_type": "code",
   "execution_count": 11,
   "metadata": {},
   "outputs": [
    {
     "name": "stdout",
     "output_type": "stream",
     "text": [
      "+-------------+----------------+-----------+--------------+---------+-------------------+--------------------+-------+----+---------+-------+-------+----+-----+----+---+----+--------------------+--------------------+-----------------+\n",
      "|fixed acidity|volatile acidity|citric acid|residual sugar|chlorides|free sulfur dioxide|total sulfur dioxide|density|  pH|sulphates|alcohol|quality|  FA|label|  CA| RS|   A|            features|     indexedFeatures|       prediction|\n",
      "+-------------+----------------+-----------+--------------+---------+-------------------+--------------------+-------+----+---------+-------+-------+----+-----+----+---+----+--------------------+--------------------+-----------------+\n",
      "|           10|            0.26|       0.54|           1.9|    0.083|                 42|                  74|0.99451|2.98|     0.63|   11.8|      8|10.0|  8.0|0.54|1.9|11.8|[10.0,0.54,1.9,11.8]|[10.0,0.54,1.9,11.8]|6.549019607843137|\n",
      "|           10|            0.35|       0.47|             2|    0.061|                  6|                  11|0.99585|3.23|     0.52|     12|      6|10.0|  6.0|0.47|2.0|12.0|[10.0,0.47,2.0,12.0]|[10.0,0.47,2.0,12.0]|6.549019607843137|\n",
      "|           10|            0.48|       0.24|           2.7|    0.102|                 13|                  32|      1|3.28|     0.56|     10|      6|10.0|  6.0|0.24|2.7|10.0|[10.0,0.24,2.7,10.0]|[10.0,0.24,2.7,10.0]|5.492063492063492|\n",
      "|           10|            0.58|       0.22|           1.9|     0.08|                  9|                  32| 0.9974|3.13|     0.55|    9.5|      5|10.0|  5.0|0.22|1.9| 9.5| [10.0,0.22,1.9,9.5]| [10.0,0.22,1.9,9.5]|5.309027777777778|\n",
      "|           10|            0.73|       0.43|           2.3|    0.059|                 15|                  31| 0.9966|3.15|     0.57|     11|      5|10.0|  5.0|0.43|2.3|11.0|[10.0,0.43,2.3,11.0]|[10.0,0.43,2.3,11.0]|6.541666666666667|\n",
      "+-------------+----------------+-----------+--------------+---------+-------------------+--------------------+-------+----+---------+-------+-------+----+-----+----+---+----+--------------------+--------------------+-----------------+\n",
      "only showing top 5 rows\n",
      "\n"
     ]
    }
   ],
   "source": [
    "# Train a DecisionTree model.\n",
    "dt = DecisionTreeRegressor(featuresCol=\"indexedFeatures\")\n",
    "\n",
    "# Chain indexer and tree in a Pipeline\n",
    "pipeline = Pipeline(stages=[featureIndexer, dt])\n",
    "\n",
    "# Train model.  This also runs the indexer.\n",
    "model = pipeline.fit(trainingData)\n",
    "\n",
    "# Make predictions.\n",
    "predictions = model.transform(testData)\n",
    "predictions.show(5)"
   ]
  },
  {
   "cell_type": "code",
   "execution_count": 12,
   "metadata": {},
   "outputs": [
    {
     "name": "stdout",
     "output_type": "stream",
     "text": [
      "Root Mean Squared Error (RMSE) on test data = 0.720801\n",
      "Coefficient of Determination (R^2) on test data = 0.246783\n",
      "DecisionTreeRegressionModel: uid=DecisionTreeRegressor_6f11059dfdc3, depth=5, numNodes=59, numFeatures=4\n"
     ]
    }
   ],
   "source": [
    "# Select (prediction, true label) and compute test error\n",
    "evaluator_rmse = RegressionEvaluator(\n",
    "    labelCol=\"label\", predictionCol=\"prediction\", metricName=\"rmse\")\n",
    "rmse = evaluator_rmse.evaluate(predictions)\n",
    "\n",
    "evaluator_r2 = RegressionEvaluator(\n",
    "    labelCol=\"label\", predictionCol=\"prediction\", metricName= \"r2\")\n",
    "r2 = evaluator_r2.evaluate(predictions)\n",
    "\n",
    "print(\"Root Mean Squared Error (RMSE) on test data = %g\" % rmse)\n",
    "print(\"Coefficient of Determination (R^2) on test data = %g\" % r2)\n",
    "\n",
    "treeModel = model.stages[1]\n",
    "# summary only\n",
    "print(treeModel)"
   ]
  },
  {
   "cell_type": "code",
   "execution_count": 13,
   "metadata": {},
   "outputs": [],
   "source": [
    "from pyspark.ml.regression import RandomForestRegressor"
   ]
  },
  {
   "cell_type": "code",
   "execution_count": 14,
   "metadata": {},
   "outputs": [],
   "source": [
    "# Load the data as a DataFrame.\n",
    "#data = spark.read.load(\"winequality-red.csv\", format=\"csv\", header=True, delimiter=\";\")\n",
    "\n",
    "data = spark.read.format(\"csv\").load(\"winequality-red.csv\", header=True, delimiter=\";\")\n",
    "\n",
    "data = data.withColumn(\"FA\", data[\"fixed acidity\"] - 0).withColumn(\"label\", data['quality'] - 0). \\\n",
    "    withColumn(\"CA\", data[\"citric acid\"] - 0). \\\n",
    "    withColumn(\"RS\", data[\"residual sugar\"] - 0). \\\n",
    "    withColumn(\"A\", data[\"alcohol\"] - 0)"
   ]
  },
  {
   "cell_type": "code",
   "execution_count": 15,
   "metadata": {},
   "outputs": [
    {
     "name": "stdout",
     "output_type": "stream",
     "text": [
      "+-------------+----------------+-----------+--------------+---------+-------------------+--------------------+-------+----+---------+-------+-------+----+-----+----+---+---+-------------------+\n",
      "|fixed acidity|volatile acidity|citric acid|residual sugar|chlorides|free sulfur dioxide|total sulfur dioxide|density|  pH|sulphates|alcohol|quality|  FA|label|  CA| RS|  A|           features|\n",
      "+-------------+----------------+-----------+--------------+---------+-------------------+--------------------+-------+----+---------+-------+-------+----+-----+----+---+---+-------------------+\n",
      "|          7.4|             0.7|          0|           1.9|    0.076|                 11|                  34| 0.9978|3.51|     0.56|    9.4|      5| 7.4|  5.0| 0.0|1.9|9.4|  [7.4,0.0,1.9,9.4]|\n",
      "|          7.8|            0.88|          0|           2.6|    0.098|                 25|                  67| 0.9968| 3.2|     0.68|    9.8|      5| 7.8|  5.0| 0.0|2.6|9.8|  [7.8,0.0,2.6,9.8]|\n",
      "|          7.8|            0.76|       0.04|           2.3|    0.092|                 15|                  54|  0.997|3.26|     0.65|    9.8|      5| 7.8|  5.0|0.04|2.3|9.8| [7.8,0.04,2.3,9.8]|\n",
      "|         11.2|            0.28|       0.56|           1.9|    0.075|                 17|                  60|  0.998|3.16|     0.58|    9.8|      6|11.2|  6.0|0.56|1.9|9.8|[11.2,0.56,1.9,9.8]|\n",
      "|          7.4|             0.7|          0|           1.9|    0.076|                 11|                  34| 0.9978|3.51|     0.56|    9.4|      5| 7.4|  5.0| 0.0|1.9|9.4|  [7.4,0.0,1.9,9.4]|\n",
      "+-------------+----------------+-----------+--------------+---------+-------------------+--------------------+-------+----+---------+-------+-------+----+-----+----+---+---+-------------------+\n",
      "only showing top 5 rows\n",
      "\n"
     ]
    }
   ],
   "source": [
    "vassembler = VectorAssembler(inputCols=[\"FA\", \"CA\", \"RS\",\"A\"], outputCol='features')\n",
    "\n",
    "data = vassembler.transform(data)\n",
    "data.show(5)"
   ]
  },
  {
   "cell_type": "code",
   "execution_count": 16,
   "metadata": {},
   "outputs": [],
   "source": [
    "# Automatically identify categorical features, and index them.\n",
    "# Set maxCategories so features with > 4 distinct values are treated as continuous.\n",
    "featureIndexer =\\\n",
    "    VectorIndexer(inputCol=\"features\", outputCol=\"indexedFeatures\", maxCategories=4).fit(data)\n",
    "\n",
    "# Split the data into training and test sets (30% held out for testing)\n",
    "(trainingData, testData) = data.randomSplit([0.7, 0.3])"
   ]
  },
  {
   "cell_type": "code",
   "execution_count": 17,
   "metadata": {},
   "outputs": [
    {
     "name": "stdout",
     "output_type": "stream",
     "text": [
      "+-------------+----------------+-----------+--------------+---------+-------------------+--------------------+-------+----+---------+-------+-------+----+-----+----+----+----+--------------------+--------------------+------------------+\n",
      "|fixed acidity|volatile acidity|citric acid|residual sugar|chlorides|free sulfur dioxide|total sulfur dioxide|density|  pH|sulphates|alcohol|quality|  FA|label|  CA|  RS|   A|            features|     indexedFeatures|        prediction|\n",
      "+-------------+----------------+-----------+--------------+---------+-------------------+--------------------+-------+----+---------+-------+-------+----+-----+----+----+----+--------------------+--------------------+------------------+\n",
      "|           10|            0.26|       0.54|           1.9|    0.083|                 42|                  74|0.99451|2.98|     0.63|   11.8|      8|10.0|  8.0|0.54| 1.9|11.8|[10.0,0.54,1.9,11.8]|[10.0,0.54,1.9,11.8]| 6.705523479233558|\n",
      "|           10|            0.29|        0.4|           2.9|    0.098|                 10|                  26| 1.0006|3.48|     0.91|    9.7|      5|10.0|  5.0| 0.4| 2.9| 9.7|  [10.0,0.4,2.9,9.7]|  [10.0,0.4,2.9,9.7]| 5.345793280508446|\n",
      "|           10|            0.35|       0.45|           2.5|    0.092|                 20|                  88|0.99918|3.15|     0.43|    9.4|      5|10.0|  5.0|0.45| 2.5| 9.4| [10.0,0.45,2.5,9.4]| [10.0,0.45,2.5,9.4]| 5.182082400514068|\n",
      "|           10|            0.38|       0.38|           1.6|    0.169|                 27|                  90|0.99914|3.15|     0.65|    8.5|      5|10.0|  5.0|0.38| 1.6| 8.5| [10.0,0.38,1.6,8.5]| [10.0,0.38,1.6,8.5]|5.3881820918764385|\n",
      "|           10|            0.49|        0.2|            11|    0.071|                 13|                  50| 1.0015|3.16|     0.69|    9.2|      6|10.0|  6.0| 0.2|11.0| 9.2| [10.0,0.2,11.0,9.2]| [10.0,0.2,11.0,9.2]| 5.408559435660389|\n",
      "+-------------+----------------+-----------+--------------+---------+-------------------+--------------------+-------+----+---------+-------+-------+----+-----+----+----+----+--------------------+--------------------+------------------+\n",
      "only showing top 5 rows\n",
      "\n"
     ]
    }
   ],
   "source": [
    "# Train a RandomForest model.\n",
    "rf = RandomForestRegressor(featuresCol=\"indexedFeatures\")\n",
    "\n",
    "# Chain indexer and forest in a Pipeline\n",
    "pipeline = Pipeline(stages=[featureIndexer, rf])\n",
    "\n",
    "# Train model.  This also runs the indexer.\n",
    "model = pipeline.fit(trainingData)\n",
    "\n",
    "# Make predictions.\n",
    "predictions = model.transform(testData)\n",
    "\n",
    "# Select example rows to display.\n",
    "predictions.show(5)"
   ]
  },
  {
   "cell_type": "code",
   "execution_count": 18,
   "metadata": {},
   "outputs": [
    {
     "name": "stdout",
     "output_type": "stream",
     "text": [
      "Root Mean Squared Error (RMSE) on test data = 0.693439\n",
      "Coefficient of Determination (R^2) on test data = 0.223466\n",
      "RandomForestRegressionModel: uid=RandomForestRegressor_1d7430452cf0, numTrees=20, numFeatures=4\n"
     ]
    }
   ],
   "source": [
    "# Select (prediction, true label) and compute test error\n",
    "evaluator_rmse = RegressionEvaluator(\n",
    "    labelCol=\"label\", predictionCol=\"prediction\", metricName=\"rmse\")\n",
    "rmse = evaluator_rmse.evaluate(predictions)\n",
    "\n",
    "evaluator_r2 = RegressionEvaluator(\n",
    "    labelCol=\"label\", predictionCol=\"prediction\", metricName= \"r2\")\n",
    "r2 = evaluator_r2.evaluate(predictions)\n",
    "\n",
    "print(\"Root Mean Squared Error (RMSE) on test data = %g\" % rmse)\n",
    "print(\"Coefficient of Determination (R^2) on test data = %g\" % r2)\n",
    "\n",
    "rfModel = model.stages[1]\n",
    "print(rfModel)  # summary only"
   ]
  }
 ],
 "metadata": {
  "kernelspec": {
   "display_name": "Python 3",
   "language": "python",
   "name": "python3"
  },
  "language_info": {
   "codemirror_mode": {
    "name": "ipython",
    "version": 3
   },
   "file_extension": ".py",
   "mimetype": "text/x-python",
   "name": "python",
   "nbconvert_exporter": "python",
   "pygments_lexer": "ipython3",
   "version": "3.11.3"
  },
  "orig_nbformat": 4
 },
 "nbformat": 4,
 "nbformat_minor": 2
}
