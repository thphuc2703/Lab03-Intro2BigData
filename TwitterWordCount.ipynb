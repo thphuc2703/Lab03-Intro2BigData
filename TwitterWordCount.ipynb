{
 "cells": [
  {
   "attachments": {},
   "cell_type": "markdown",
   "metadata": {},
   "source": [
    "## Word count on Twitter streaming data"
   ]
  },
  {
   "cell_type": "code",
   "execution_count": null,
   "metadata": {},
   "outputs": [],
   "source": [
    "import tweepy\n",
    "from tweepy import OAuthHandler\n",
    "from tweepy import Stream\n",
    "from tweepy.streaming import StreamListener\n",
    "import socket\n",
    "import json\n",
    "import time\n",
    "from pyspark import SparkContext\n",
    "from pyspark.streaming import StreamingContext\n",
    "from pyspark.sql.functions import desc\n",
    "from collections import namedtuple\n",
    "import findspark \n",
    "findspark.init()\n",
    "findspark.find()\n",
    "from pyspark.sql import SparkSession\n",
    "spark = SparkSession.builder.appName(\"\").getOrCreate()\n",
    "from pyspark.python.pyspark.shell import spark"
   ]
  },
  {
   "attachments": {},
   "cell_type": "markdown",
   "metadata": {},
   "source": [
    "## a. Create a twitter streaming class to connect to twitter using the auth credentials"
   ]
  },
  {
   "cell_type": "code",
   "execution_count": null,
   "metadata": {},
   "outputs": [],
   "source": [
    "consumer_key = '**'\n",
    "consumer_secret = '**'\n",
    "access_token = '**-**'\n",
    "access_secret = '**'\n",
    "\n",
    "\n",
    "auth = OAuthHandler(consumer_key, consumer_secret)\n",
    "auth.set_access_token(access_token, access_secret)"
   ]
  },
  {
   "attachments": {},
   "cell_type": "markdown",
   "metadata": {},
   "source": [
    "## b. Create a listening class to bind onto same host and port"
   ]
  },
  {
   "cell_type": "code",
   "execution_count": null,
   "metadata": {},
   "outputs": [],
   "source": [
    "class TweetsListener(StreamListener):\n",
    "\n",
    "    def __init__(self, csocket):\n",
    "        self.client_socket = csocket\n",
    "\n",
    "    def on_data(self, data):\n",
    "        try:\n",
    "            msg = json.loads(data)\n",
    "            print(msg['text'].encode('utf-8'))\n",
    "            self.client_socket.send(msg['text'].encode('utf-8'))\n",
    "            return True\n",
    "        except BaseException as e:\n",
    "            print(\"Error on_data: %s\" % str(e))\n",
    "        return True\n",
    "\n",
    "    def on_error(self, status):\n",
    "        print(status)\n",
    "        return True"
   ]
  },
  {
   "cell_type": "code",
   "execution_count": null,
   "metadata": {},
   "outputs": [],
   "source": [
    "def sendData(c_socket):\n",
    "    auth = OAuthHandler(consumer_key, consumer_secret)\n",
    "    auth.set_access_token(access_token, access_secret)\n",
    "\n",
    "    twitter_stream = Stream(auth, TweetsListener(c_socket))\n",
    "    twitter_stream.filter(track=['fifa'])   "
   ]
  },
  {
   "cell_type": "code",
   "execution_count": null,
   "metadata": {},
   "outputs": [],
   "source": [
    "if __name__ == \"__main__\":\n",
    "    s = socket.socket()  # Create a socket object\n",
    "    host = \"localhost\"  # Get local machine name\n",
    "    port = 1234  # Reserve a port for your service.\n",
    "    s.bind((host, port))  # Bind to the port\n",
    "    print(\"Listening on port: %s\" % str(port))\n",
    "    s.listen(5)  # Now wait for client connection.\n",
    "    c, addr = s.accept()  # Establish connection with client.\n",
    "    print(\"Received request from: \" + str(addr))\n",
    "    time.sleep(5)\n",
    "    sendData(c)"
   ]
  },
  {
   "attachments": {},
   "cell_type": "markdown",
   "metadata": {},
   "source": [
    "## c. Perform the word count on it"
   ]
  },
  {
   "cell_type": "code",
   "execution_count": null,
   "metadata": {},
   "outputs": [],
   "source": [
    "def main():\n",
    "    sc = SparkContext(appName=\"PysparkStreaming\")\n",
    "    wordcount = {}\n",
    "    ssc = StreamingContext(sc, 5)\n",
    "    lines = ssc.socketTextStream(\"localhost\", 1234)\n",
    "    fields = (\"word\", \"count\")\n",
    "    Tweet = namedtuple('Text', fields)\n",
    "    # lines = socket_stream.window(20)\n",
    "    counts = lines.flatMap(lambda text: text.split(\" \"))\\\n",
    "        .map(lambda x: (x, 1))\\\n",
    "        .reduceByKey(lambda a, b: a + b).map(lambda rec: Tweet(rec[0], rec[1]))\n",
    "    counts.pprint()\n",
    "    ssc.start()\n",
    "    ssc.awaitTermination()  \n",
    "main()"
   ]
  }
 ],
 "metadata": {
  "kernelspec": {
   "display_name": "Python 3",
   "language": "python",
   "name": "python3"
  },
  "language_info": {
   "codemirror_mode": {
    "name": "ipython",
    "version": 3
   },
   "file_extension": ".py",
   "mimetype": "text/x-python",
   "name": "python",
   "nbconvert_exporter": "python",
   "pygments_lexer": "ipython3",
   "version": "3.10.4"
  },
  "orig_nbformat": 4
 },
 "nbformat": 4,
 "nbformat_minor": 2
}
